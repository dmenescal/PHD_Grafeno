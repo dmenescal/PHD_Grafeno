{
 "cells": [
  {
   "attachments": {},
   "cell_type": "markdown",
   "metadata": {},
   "source": [
    "# Entendimento da Função Lorentziana:"
   ]
  },
  {
   "cell_type": "code",
   "execution_count": 122,
   "metadata": {},
   "outputs": [],
   "source": [
    "import numpy as np \n",
    "import math\n",
    "import seaborn as sns\n",
    "import pandas as pd"
   ]
  },
  {
   "cell_type": "code",
   "execution_count": 123,
   "metadata": {},
   "outputs": [],
   "source": [
    "def lorentzFunc (x, x0, gama):\n",
    "    return 1/(np.pi*gama*(1 + ((x-x0)/(gama))**2))"
   ]
  },
  {
   "cell_type": "code",
   "execution_count": 124,
   "metadata": {},
   "outputs": [
    {
     "data": {
      "text/html": [
       "<div>\n",
       "<style scoped>\n",
       "    .dataframe tbody tr th:only-of-type {\n",
       "        vertical-align: middle;\n",
       "    }\n",
       "\n",
       "    .dataframe tbody tr th {\n",
       "        vertical-align: top;\n",
       "    }\n",
       "\n",
       "    .dataframe thead th {\n",
       "        text-align: right;\n",
       "    }\n",
       "</style>\n",
       "<table border=\"1\" class=\"dataframe\">\n",
       "  <thead>\n",
       "    <tr style=\"text-align: right;\">\n",
       "      <th></th>\n",
       "      <th>X</th>\n",
       "      <th>Y</th>\n",
       "    </tr>\n",
       "  </thead>\n",
       "  <tbody>\n",
       "    <tr>\n",
       "      <th>0</th>\n",
       "      <td>0.0</td>\n",
       "      <td>0.003152</td>\n",
       "    </tr>\n",
       "    <tr>\n",
       "      <th>1</th>\n",
       "      <td>0.1</td>\n",
       "      <td>0.003215</td>\n",
       "    </tr>\n",
       "    <tr>\n",
       "      <th>2</th>\n",
       "      <td>0.2</td>\n",
       "      <td>0.003280</td>\n",
       "    </tr>\n",
       "    <tr>\n",
       "      <th>3</th>\n",
       "      <td>0.3</td>\n",
       "      <td>0.003347</td>\n",
       "    </tr>\n",
       "    <tr>\n",
       "      <th>4</th>\n",
       "      <td>0.4</td>\n",
       "      <td>0.003417</td>\n",
       "    </tr>\n",
       "  </tbody>\n",
       "</table>\n",
       "</div>"
      ],
      "text/plain": [
       "     X         Y\n",
       "0  0.0  0.003152\n",
       "1  0.1  0.003215\n",
       "2  0.2  0.003280\n",
       "3  0.3  0.003347\n",
       "4  0.4  0.003417"
      ]
     },
     "execution_count": 124,
     "metadata": {},
     "output_type": "execute_result"
    }
   ],
   "source": [
    "x0 = 10  # Posicão da Moda da Distribuição\n",
    "gama = 1\n",
    "\n",
    "X = np.arange(-10.0+x0, 10.0+x0, 0.1)\n",
    "Y = lorentzFunc(X, x0, gama)\n",
    "\n",
    "lorentzDF = pd.DataFrame(data={'X': X, 'Y':Y})\n",
    "lorentzDF.head()"
   ]
  },
  {
   "cell_type": "code",
   "execution_count": 125,
   "metadata": {},
   "outputs": [
    {
     "data": {
      "text/plain": [
       "<AxesSubplot:xlabel='X', ylabel='Y'>"
      ]
     },
     "execution_count": 125,
     "metadata": {},
     "output_type": "execute_result"
    },
    {
     "data": {
      "image/png": "[encoded data removed]",
      "text/plain": [
       "<Figure size 432x288 with 1 Axes>"
      ]
     },
     "metadata": {
      "needs_background": "light"
     },
     "output_type": "display_data"
    }
   ],
   "source": [
    "sns.lineplot(data=lorentzDF, x='X', y='Y')"
   ]
  },
  {
   "attachments": {},
   "cell_type": "markdown",
   "metadata": {},
   "source": [
    "# Criando um modelo de regressão não linear para aprender a Lorentziana (neurônios LIF)"
   ]
  },
  {
   "cell_type": "code",
   "execution_count": 126,
   "metadata": {},
   "outputs": [],
   "source": [
    "# imports\n",
    "import snntorch as snn\n",
    "from snntorch import surrogate\n",
    "from snntorch import functional as SF\n",
    "from snntorch import utils\n",
    "\n",
    "import torch\n",
    "import torch.nn as nn\n",
    "from torch.utils.data import DataLoader\n",
    "from torchvision import datasets, transforms\n",
    "import torch.nn.functional as F\n",
    "\n",
    "import matplotlib.pyplot as plt\n",
    "import numpy as np\n",
    "import itertools\n",
    "import random\n",
    "import statistics\n",
    "import tqdm"
   ]
  },
  {
   "cell_type": "code",
   "execution_count": 127,
   "metadata": {},
   "outputs": [],
   "source": [
    "# Seed\n",
    "torch.manual_seed(0)\n",
    "random.seed(0)\n",
    "np.random.seed(0)"
   ]
  },
  {
   "attachments": {},
   "cell_type": "markdown",
   "metadata": {},
   "source": [
    "## Criando a base de dados"
   ]
  },
  {
   "cell_type": "code",
   "execution_count": 128,
   "metadata": {},
   "outputs": [],
   "source": [
    "class RegressionDataset(torch.utils.data.Dataset):\n",
    "    \"\"\"Simple regression dataset.\"\"\"\n",
    "\n",
    "    def __init__(self, timesteps, num_samples, mode):\n",
    "        \"\"\"Linear relation between input and output\"\"\"\n",
    "        self.num_samples = num_samples # number of generated samples\n",
    "        feature_lst = [] # store each generated sample in a list\n",
    "\n",
    "        # generate linear functions one by one\n",
    "        for idx in range(num_samples):\n",
    "            end = 20.0#float(torch.rand(1)) # random final point\n",
    "            lin_vec = torch.linspace(start=0.0, end=end, steps=timesteps) # generate linear function from 0 to end\n",
    "            feature = lin_vec.view(timesteps, 1)\n",
    "            feature_lst.append(feature) # add sample to list\n",
    "\n",
    "        self.features = torch.stack(feature_lst, dim=1) # convert list to tensor\n",
    "\n",
    "        # option to generate linear function or square-root function\n",
    "        if mode == \"linear\":\n",
    "            self.labels = self.features * 1\n",
    "\n",
    "        elif mode == \"sqrt\":\n",
    "            slope = float(torch.rand(1))\n",
    "            self.labels = torch.sqrt(self.features * slope)\n",
    "        \n",
    "        elif mode == 'lorentz':\n",
    "            gama = 1.0\n",
    "            x0 = 10.0\n",
    "            self.labels = lorentzFunc(self.features, x0, gama)\n",
    "        else:\n",
    "            raise NotImplementedError(\"'linear', 'sqrt', 'lorentz'\")\n",
    "\n",
    "    def __len__(self):\n",
    "        \"\"\"Number of samples.\"\"\"\n",
    "        return self.num_samples\n",
    "\n",
    "    def __getitem__(self, idx):\n",
    "        \"\"\"General implementation, but we only have one sample.\"\"\"\n",
    "        return self.features[:, idx, :], self.labels[:, idx, :]"
   ]
  },
  {
   "attachments": {},
   "cell_type": "markdown",
   "metadata": {},
   "source": [
    "## Visualização da base numérica"
   ]
  },
  {
   "cell_type": "code",
   "execution_count": 129,
   "metadata": {},
   "outputs": [
    {
     "name": "stdout",
     "output_type": "stream",
     "text": [
      "torch.Size([50, 1, 1])\n"
     ]
    },
    {
     "data": {
      "image/png": "[encoded data removed]",
      "text/plain": [
       "<Figure size 432x288 with 1 Axes>"
      ]
     },
     "metadata": {
      "needs_background": "light"
     },
     "output_type": "display_data"
    }
   ],
   "source": [
    "num_steps = 50\n",
    "num_samples = 1\n",
    "mode = \"lorentz\" # 'linear' or 'sqrt' or 'lorentz'\n",
    "\n",
    "# generate a single data sample\n",
    "dataset = RegressionDataset(timesteps=num_steps, num_samples=num_samples, mode=mode)\n",
    "\n",
    "print(dataset.features.size())\n",
    "\n",
    "# plot\n",
    "sample = dataset.labels[:, 0, 0]\n",
    "plt.plot(sample)\n",
    "plt.title(\"Target function to teach network\")\n",
    "plt.xlabel(\"Time\")\n",
    "plt.ylabel(\"Membrane Potential\")\n",
    "plt.show()"
   ]
  },
  {
   "attachments": {},
   "cell_type": "markdown",
   "metadata": {},
   "source": [
    "## Transformando a base de dados em um DataLoader"
   ]
  },
  {
   "cell_type": "code",
   "execution_count": 130,
   "metadata": {},
   "outputs": [],
   "source": [
    "batch_size = 1 # only one sample to learn\n",
    "dataloader = torch.utils.data.DataLoader(dataset=dataset, batch_size=batch_size, drop_last=True)"
   ]
  },
  {
   "attachments": {},
   "cell_type": "markdown",
   "metadata": {},
   "source": [
    "## Montando a topologia da Rede Neural"
   ]
  },
  {
   "cell_type": "code",
   "execution_count": 131,
   "metadata": {},
   "outputs": [],
   "source": [
    "class Net(torch.nn.Module):\n",
    "    \"\"\"Simple spiking neural network in snntorch.\"\"\"\n",
    "\n",
    "    def __init__(self, timesteps, hidden):\n",
    "        super().__init__()\n",
    "\n",
    "        self.timesteps = timesteps # number of time steps to simulate the network\n",
    "        self.hidden = hidden # number of hidden neurons\n",
    "        spike_grad = surrogate.fast_sigmoid() # surrogate gradient function\n",
    "\n",
    "        # randomly initialize decay rate and threshold for layer 1\n",
    "        beta_in = torch.rand(self.hidden)\n",
    "        thr_in = torch.rand(self.hidden)\n",
    "\n",
    "        # layer 1\n",
    "        self.fc_in = torch.nn.Linear(in_features=1, out_features=self.hidden)\n",
    "        self.lif_in = snn.Leaky(beta=beta_in, threshold=thr_in, learn_beta=True, spike_grad=spike_grad)\n",
    "\n",
    "        # randomly initialize decay rate and threshold for layer 2\n",
    "        beta_hidden = torch.rand(self.hidden)\n",
    "        thr_hidden = torch.rand(self.hidden)\n",
    "\n",
    "        # layer 2\n",
    "        self.fc_hidden = torch.nn.Linear(in_features=self.hidden, out_features=self.hidden)\n",
    "        self.lif_hidden = snn.Leaky(beta=beta_hidden, threshold=thr_hidden, learn_beta=True, spike_grad=spike_grad)\n",
    "\n",
    "        # randomly initialize decay rate for output neuron\n",
    "        beta_out = torch.rand(1)\n",
    "\n",
    "        # layer 3: leaky integrator neuron. Note the reset mechanism is disabled and we will disregard output spikes.\n",
    "        self.fc_out = torch.nn.Linear(in_features=self.hidden, out_features=1)\n",
    "        self.li_out = snn.Leaky(beta=beta_out, threshold=1.0, learn_beta=True, spike_grad=spike_grad, reset_mechanism=\"none\")\n",
    "\n",
    "    def forward(self, x):\n",
    "        \"\"\"Forward pass for several time steps.\"\"\"\n",
    "\n",
    "        # Initalize membrane potential\n",
    "        mem_1 = self.lif_in.init_leaky()\n",
    "        mem_2 = self.lif_hidden.init_leaky()\n",
    "        mem_3 = self.li_out.init_leaky()\n",
    "\n",
    "        # Empty lists to record outputs\n",
    "        mem_3_rec = []\n",
    "\n",
    "        # Loop over\n",
    "        for step in range(self.timesteps):\n",
    "            x_timestep = x[step, :, :]\n",
    "\n",
    "            cur_in = self.fc_in(x_timestep)\n",
    "            spk_in, mem_1 = self.lif_in(cur_in, mem_1)\n",
    "\n",
    "            cur_hidden = self.fc_hidden(spk_in)\n",
    "            spk_hidden, mem_2 = self.lif_hidden(cur_hidden, mem_2)\n",
    "\n",
    "            cur_out = self.fc_out(spk_hidden)\n",
    "            _, mem_3 = self.li_out(cur_out, mem_3)\n",
    "\n",
    "            mem_3_rec.append(mem_3)\n",
    "\n",
    "        return torch.stack(mem_3_rec)"
   ]
  },
  {
   "attachments": {},
   "cell_type": "markdown",
   "metadata": {},
   "source": [
    "## Instanciando a Rede Neural"
   ]
  },
  {
   "cell_type": "code",
   "execution_count": 132,
   "metadata": {},
   "outputs": [],
   "source": [
    "hidden = 128\n",
    "device = torch.device(\"cuda\") if torch.cuda.is_available() else torch.device(\"cpu\")\n",
    "model = Net(timesteps=num_steps, hidden=hidden).to(device)"
   ]
  },
  {
   "attachments": {},
   "cell_type": "markdown",
   "metadata": {},
   "source": [
    "## Mapeamento Entrada-Saída sem treinamento:"
   ]
  },
  {
   "cell_type": "code",
   "execution_count": 133,
   "metadata": {},
   "outputs": [
    {
     "data": {
      "image/png": "[encoded data removed]",
      "text/plain": [
       "<Figure size 432x288 with 1 Axes>"
      ]
     },
     "metadata": {
      "needs_background": "light"
     },
     "output_type": "display_data"
    }
   ],
   "source": [
    "train_batch = iter(dataloader)\n",
    "\n",
    "# run a single forward-pass\n",
    "with torch.no_grad():\n",
    "    for feature, label in train_batch:\n",
    "        feature = torch.swapaxes(input=feature, axis0=0, axis1=1)\n",
    "        label = torch.swapaxes(input=label, axis0=0, axis1=1)\n",
    "        feature = feature.to(device)\n",
    "        label = label.to(device)\n",
    "        mem = model(feature)\n",
    "\n",
    "# plot\n",
    "plt.plot(mem[:, 0, 0].cpu(), label=\"Output\")\n",
    "plt.plot(label[:, 0, 0].cpu(), '--', label=\"Target\")\n",
    "plt.title(\"Untrained Output Neuron\")\n",
    "plt.xlabel(\"Time\")\n",
    "plt.ylabel(\"Membrane Potential\")\n",
    "plt.legend(loc='best')\n",
    "plt.show()"
   ]
  },
  {
   "attachments": {},
   "cell_type": "markdown",
   "metadata": {},
   "source": [
    "## Loop de Treinamento da Rede Neural"
   ]
  },
  {
   "cell_type": "code",
   "execution_count": 138,
   "metadata": {},
   "outputs": [
    {
     "name": "stderr",
     "output_type": "stream",
     "text": [
      "100%|██████████| 200/200 [00:14<00:00, 14.10it/s, loss=8.294e-04]\n"
     ]
    }
   ],
   "source": [
    "num_iter = 1000 # train for 100 iterations\n",
    "optimizer = torch.optim.Adam(params=model.parameters(), lr=1e-3, weight_decay=1e-5)\n",
    "loss_function = torch.nn.MSELoss()\n",
    "\n",
    "loss_hist = [] # record loss\n",
    "\n",
    "# training loop\n",
    "with tqdm.trange(num_iter) as pbar:\n",
    "    for _ in pbar:\n",
    "        train_batch = iter(dataloader)\n",
    "        minibatch_counter = 0\n",
    "        loss_epoch = []\n",
    "\n",
    "        for feature, label in train_batch:\n",
    "            # prepare data\n",
    "            feature = torch.swapaxes(input=feature, axis0=0, axis1=1)\n",
    "            label = torch.swapaxes(input=label, axis0=0, axis1=1)\n",
    "            feature = feature.to(device)\n",
    "            label = label.to(device)\n",
    "\n",
    "            # forward pass\n",
    "            mem = model(feature)\n",
    "            loss_val = loss_function(mem, label) # calculate loss\n",
    "            optimizer.zero_grad() # zero out gradients\n",
    "            loss_val.backward() # calculate gradients\n",
    "            optimizer.step() # update weights\n",
    "\n",
    "            # store loss\n",
    "            loss_hist.append(loss_val.item())\n",
    "            loss_epoch.append(loss_val.item())\n",
    "            minibatch_counter += 1\n",
    "\n",
    "            avg_batch_loss = sum(loss_epoch) / minibatch_counter # calculate average loss p/epoch\n",
    "            pbar.set_postfix(loss=\"%.3e\" % avg_batch_loss) # print loss p/batch"
   ]
  },
  {
   "cell_type": "code",
   "execution_count": 139,
   "metadata": {},
   "outputs": [
    {
     "data": {
      "image/png": "[encoded data removed]",
      "text/plain": [
       "<Figure size 432x288 with 1 Axes>"
      ]
     },
     "metadata": {
      "needs_background": "light"
     },
     "output_type": "display_data"
    }
   ],
   "source": [
    "plt.title(\"Training Error\")\n",
    "plt.xlabel(\"Iterations\")\n",
    "plt.ylabel(\"MSE Loss\")\n",
    "plt.plot(loss_hist[0:21])\n",
    "plt.show()"
   ]
  },
  {
   "attachments": {},
   "cell_type": "markdown",
   "metadata": {},
   "source": [
    "## Validação do Treinamento "
   ]
  },
  {
   "cell_type": "code",
   "execution_count": 140,
   "metadata": {},
   "outputs": [
    {
     "name": "stdout",
     "output_type": "stream",
     "text": [
      "Mean L1-loss:       1.43e-03\n",
      "Mean rel. err.:     1.64e+00\n"
     ]
    }
   ],
   "source": [
    "loss_function = torch.nn.L1Loss() # Use L1 loss instead\n",
    "\n",
    " # pause gradient calculation during evaluation\n",
    "with torch.no_grad():\n",
    "    model.eval()\n",
    "\n",
    "    test_batch = iter(dataloader)\n",
    "    minibatch_counter = 0\n",
    "    rel_err_lst = []\n",
    "\n",
    "    # loop over data samples\n",
    "    for feature, label in test_batch:\n",
    "\n",
    "        # prepare data\n",
    "        feature = torch.swapaxes(input=feature, axis0=0, axis1=1)\n",
    "        label = torch.swapaxes(input=label, axis0=0, axis1=1)\n",
    "        feature = feature.to(device)\n",
    "        label = label.to(device)\n",
    "\n",
    "        # forward-pass\n",
    "        mem = model(feature)\n",
    "\n",
    "        # calculate relative error\n",
    "        rel_err = torch.linalg.norm(\n",
    "            (mem - label), dim=-1\n",
    "        ) / torch.linalg.norm(label, dim=-1)\n",
    "        rel_err = torch.mean(rel_err[1:, :])\n",
    "\n",
    "        # calculate loss\n",
    "        loss_val = loss_function(mem, label)\n",
    "\n",
    "        # store loss\n",
    "        loss_hist.append(loss_val.item())\n",
    "        rel_err_lst.append(rel_err.item())\n",
    "        minibatch_counter += 1\n",
    "\n",
    "    mean_L1 = statistics.mean(loss_hist)\n",
    "    mean_rel = statistics.mean(rel_err_lst)\n",
    "\n",
    "print(f\"{'Mean L1-loss:':<{20}}{mean_L1:1.2e}\")\n",
    "print(f\"{'Mean rel. err.:':<{20}}{mean_rel:1.2e}\")"
   ]
  },
  {
   "attachments": {},
   "cell_type": "markdown",
   "metadata": {},
   "source": [
    "## Visualização da Saída Numérica do modelo (previsto x esperado)"
   ]
  },
  {
   "cell_type": "code",
   "execution_count": 141,
   "metadata": {},
   "outputs": [
    {
     "data": {
      "image/png": "[encoded data removed]",
      "text/plain": [
       "<Figure size 432x288 with 1 Axes>"
      ]
     },
     "metadata": {
      "needs_background": "light"
     },
     "output_type": "display_data"
    }
   ],
   "source": [
    "mem = mem.cpu()\n",
    "label = label.cpu()\n",
    "\n",
    "plt.title(\"Trained Output Neuron\")\n",
    "plt.xlabel(\"Time\")\n",
    "plt.ylabel(\"Membrane Potential\")\n",
    "for i in range(batch_size):\n",
    "    plt.plot(mem[:, i, :].cpu(), label=\"Output\")\n",
    "    plt.plot(label[:, i, :].cpu(), label=\"Target\")\n",
    "plt.legend(loc='best')\n",
    "plt.show()"
   ]
  },
  {
   "cell_type": "code",
   "execution_count": 89,
   "metadata": {},
   "outputs": [],
   "source": [
    "torch.save(model.state_dict(), 'regressive_snn_lorentz')"
   ]
  },
  {
   "attachments": {},
   "cell_type": "markdown",
   "metadata": {},
   "source": [
    "## Carregando a base de Imkx. O nfi escolhido para teste é de 11.0."
   ]
  },
  {
   "cell_type": "code",
   "execution_count": 94,
   "metadata": {},
   "outputs": [],
   "source": [
    "import os\n",
    "\n",
    "dir_csv = '../losses'\n",
    "#dir_csv_graf = '../losses_grafeno'\n",
    "\n",
    "losses = os.listdir(dir_csv)\n",
    "#graf_losses = os.listdir(dir_csv_graf)\n",
    "\n",
    "nc = 1.0\n",
    "ns = 1.98**2\n",
    "\n",
    "pdf_losses = []\n",
    "col_names = ['classif_cone_luz', 'nc', 'ns', 'nfr', 'nfi', 'freq', 'imkx', 'loss', 'img_num']\n",
    "\n",
    "img_count = 0\n",
    "\n",
    "for arq in losses:\n",
    "    fname = dir_csv+'/'+arq\n",
    "    #print(fname)\n",
    "    nfr = arq.split('_')[5].split('(')[1]\n",
    "    nfi = arq.split('_')[7].split(')')[0]\n",
    "    pdf = pd.read_csv(fname, header=None, names=col_names[5:8])\n",
    "    pdf['img_num'] = img_count\n",
    "    pdf[col_names[0]] = 0\n",
    "    pdf[col_names[1]] = nc\n",
    "    pdf[col_names[2]] = ns\n",
    "    pdf[col_names[3]] = float(nfr)\n",
    "    pdf[col_names[4]] = float(nfi)\n",
    "    pdf['log_loss'] = np.log10(pdf['loss'].abs())\n",
    "    img_count += 1\n",
    "    \n",
    "    pdf_losses.append(pdf)\n",
    "\n",
    "final_pdf = pd.concat(pdf_losses)"
   ]
  },
  {
   "cell_type": "code",
   "execution_count": 95,
   "metadata": {},
   "outputs": [
    {
     "name": "stderr",
     "output_type": "stream",
     "text": [
      "c:\\Users\\dmene\\Anaconda3\\envs\\snn-pso\\lib\\site-packages\\ipykernel_launcher.py:2: SettingWithCopyWarning: \n",
      "A value is trying to be set on a copy of a slice from a DataFrame.\n",
      "Try using .loc[row_indexer,col_indexer] = value instead\n",
      "\n",
      "See the caveats in the documentation: https://pandas.pydata.org/pandas-docs/stable/user_guide/indexing.html#returning-a-view-versus-a-copy\n",
      "  \n"
     ]
    }
   ],
   "source": [
    "regression_base = final_pdf[['freq', 'nfi', 'imkx']]\n",
    "regression_base['imkx_norm'] = (regression_base.imkx - min(regression_base.imkx))/(max(regression_base.imkx)-min(regression_base.imkx))\n",
    "target_nfi = 11.0\n",
    "reduced_base = regression_base[regression_base.nfi == target_nfi]\n",
    "\n",
    "x = reduced_base['freq']\n",
    "y = reduced_base['imkx_norm']"
   ]
  },
  {
   "attachments": {},
   "cell_type": "markdown",
   "metadata": {},
   "source": [
    "## Adicionando outro tipo de dados, agora usando de uma fonte externa:"
   ]
  },
  {
   "cell_type": "code",
   "execution_count": 116,
   "metadata": {},
   "outputs": [],
   "source": [
    "class RegressionDataset(torch.utils.data.Dataset):\n",
    "    \"\"\"Simple regression dataset.\"\"\"\n",
    "\n",
    "    def __init__(self, num_samples=1, mode=None, external_set=None):\n",
    "        \"\"\"Linear relation between input and output\"\"\"\n",
    "        self.num_samples = num_samples # number of generated samples\n",
    "        feature_lst = [] # store each generated sample in a list\n",
    "\n",
    "        frequencies = external_set['freq'].copy()\n",
    "        timesteps = frequencies.shape[0]\n",
    "\n",
    "        # generate linear functions one by one\n",
    "        for idx in range(num_samples):   \n",
    "            lin_vec = torch.linspace(start=min(frequencies), end=max(frequencies), steps=timesteps) # generate linear function from 0 to end\n",
    "            feature = lin_vec.view(timesteps, 1)\n",
    "            feature_lst.append(feature) # add sample to list\n",
    "\n",
    "        self.features = torch.stack(feature_lst, dim=1) # convert list to tensor\n",
    "\n",
    "        # option to generate linear function or square-root function\n",
    "        if mode == \"linear\":\n",
    "            self.labels = self.features * 1\n",
    "\n",
    "        elif mode == \"sqrt\":\n",
    "            slope = float(torch.rand(1))\n",
    "            self.labels = torch.sqrt(self.features * slope)\n",
    "        \n",
    "        elif mode == 'lorentz':\n",
    "            gama = 1.0\n",
    "            x0 = 10.0\n",
    "            self.labels = lorentzFunc(self.features, x0, gama)\n",
    "\n",
    "        elif mode == 'wg_freq_imkx':\n",
    "            labels = torch.tensor(external_set['imkx_norm'], dtype=torch.float)\n",
    "            self.labels = labels.view(timesteps, 1, 1)\n",
    "\n",
    "        else:\n",
    "            raise NotImplementedError(\"'linear', 'sqrt', 'lorentz', 'wg_freq_imkx'\")\n",
    "\n",
    "    def __len__(self):\n",
    "        \"\"\"Number of samples.\"\"\"\n",
    "        return self.num_samples\n",
    "\n",
    "    def __getitem__(self, idx):\n",
    "        \"\"\"General implementation, but we only have one sample.\"\"\"\n",
    "        return self.features[:, idx, :], self.labels[:, idx, :]"
   ]
  },
  {
   "attachments": {},
   "cell_type": "markdown",
   "metadata": {},
   "source": [
    "## Visualização da saída esperada ao modelo "
   ]
  },
  {
   "cell_type": "code",
   "execution_count": 117,
   "metadata": {},
   "outputs": [
    {
     "name": "stdout",
     "output_type": "stream",
     "text": [
      "<class 'torch.Tensor'>\n"
     ]
    },
    {
     "data": {
      "image/png": "[encoded data removed]",
      "text/plain": [
       "<Figure size 432x288 with 1 Axes>"
      ]
     },
     "metadata": {
      "needs_background": "light"
     },
     "output_type": "display_data"
    }
   ],
   "source": [
    "# generate a single data sample\n",
    "dataset = RegressionDataset(num_samples=num_samples, mode='wg_freq_imkx', external_set=reduced_base)\n",
    "# plot\n",
    "sample = dataset.labels[:, 0, 0]\n",
    "plt.plot(sample)\n",
    "plt.title(\"Target function to teach network\")\n",
    "plt.xlabel(\"Time\")\n",
    "plt.ylabel(\"Membrane Potential\")\n",
    "plt.show()"
   ]
  },
  {
   "cell_type": "code",
   "execution_count": 118,
   "metadata": {},
   "outputs": [],
   "source": [
    "batch_size = 1 # only one sample to learn\n",
    "dataloader = torch.utils.data.DataLoader(dataset=dataset, batch_size=batch_size, drop_last=True)"
   ]
  },
  {
   "attachments": {},
   "cell_type": "markdown",
   "metadata": {},
   "source": [
    "## Carregando o modelo pré treinado"
   ]
  },
  {
   "cell_type": "code",
   "execution_count": 120,
   "metadata": {},
   "outputs": [],
   "source": [
    "hidden = 128\n",
    "device = torch.device(\"cuda\") if torch.cuda.is_available() else torch.device(\"cpu\")\n",
    "model = Net(timesteps=151, hidden=hidden).to(device)\n",
    "\n",
    "model = model.load_state_dict(torch.load('regressive_snn_lorentz'))"
   ]
  },
  {
   "cell_type": "code",
   "execution_count": 121,
   "metadata": {},
   "outputs": [
    {
     "ename": "TypeError",
     "evalue": "'_IncompatibleKeys' object is not callable",
     "output_type": "error",
     "traceback": [
      "\u001b[1;31m---------------------------------------------------------------------------\u001b[0m",
      "\u001b[1;31mTypeError\u001b[0m                                 Traceback (most recent call last)",
      "\u001b[1;32m<ipython-input-121-2d554e2c20d6>\u001b[0m in \u001b[0;36m<module>\u001b[1;34m\u001b[0m\n\u001b[0;32m      8\u001b[0m         \u001b[0mfeature\u001b[0m \u001b[1;33m=\u001b[0m \u001b[0mfeature\u001b[0m\u001b[1;33m.\u001b[0m\u001b[0mto\u001b[0m\u001b[1;33m(\u001b[0m\u001b[0mdevice\u001b[0m\u001b[1;33m)\u001b[0m\u001b[1;33m\u001b[0m\u001b[1;33m\u001b[0m\u001b[0m\n\u001b[0;32m      9\u001b[0m         \u001b[0mlabel\u001b[0m \u001b[1;33m=\u001b[0m \u001b[0mlabel\u001b[0m\u001b[1;33m.\u001b[0m\u001b[0mto\u001b[0m\u001b[1;33m(\u001b[0m\u001b[0mdevice\u001b[0m\u001b[1;33m)\u001b[0m\u001b[1;33m\u001b[0m\u001b[1;33m\u001b[0m\u001b[0m\n\u001b[1;32m---> 10\u001b[1;33m         \u001b[0mmem\u001b[0m \u001b[1;33m=\u001b[0m \u001b[0mmodel\u001b[0m\u001b[1;33m(\u001b[0m\u001b[0mfeature\u001b[0m\u001b[1;33m)\u001b[0m\u001b[1;33m\u001b[0m\u001b[1;33m\u001b[0m\u001b[0m\n\u001b[0m\u001b[0;32m     11\u001b[0m \u001b[1;33m\u001b[0m\u001b[0m\n\u001b[0;32m     12\u001b[0m \u001b[1;31m# plot\u001b[0m\u001b[1;33m\u001b[0m\u001b[1;33m\u001b[0m\u001b[1;33m\u001b[0m\u001b[0m\n",
      "\u001b[1;31mTypeError\u001b[0m: '_IncompatibleKeys' object is not callable"
     ]
    }
   ],
   "source": [
    "train_batch = iter(dataloader)\n",
    "\n",
    "# run a single forward-pass\n",
    "with torch.no_grad():\n",
    "    for feature, label in train_batch:\n",
    "        feature = torch.swapaxes(input=feature, axis0=0, axis1=1)\n",
    "        label = torch.swapaxes(input=label, axis0=0, axis1=1)\n",
    "        feature = feature.to(device)\n",
    "        label = label.to(device)\n",
    "        mem = model(feature)\n",
    "\n",
    "# plot\n",
    "plt.plot(mem[:, 0, 0].cpu(), label=\"Output\")\n",
    "plt.plot(label[:, 0, 0].cpu(), '--', label=\"Target\")\n",
    "plt.title(\"Untrained Output Neuron\")\n",
    "plt.xlabel(\"Time\")\n",
    "plt.ylabel(\"Membrane Potential\")\n",
    "plt.legend(loc='best')\n",
    "plt.show()"
   ]
  },
  {
   "cell_type": "code",
   "execution_count": null,
   "metadata": {},
   "outputs": [],
   "source": []
  }
 ],
 "metadata": {
  "kernelspec": {
   "display_name": "snn-pso",
   "language": "python",
   "name": "python3"
  },
  "language_info": {
   "codemirror_mode": {
    "name": "ipython",
    "version": 3
   },
   "file_extension": ".py",
   "mimetype": "text/x-python",
   "name": "python",
   "nbconvert_exporter": "python",
   "pygments_lexer": "ipython3",
   "version": "3.7.10"
  },
  "orig_nbformat": 4
 },
 "nbformat": 4,
 "nbformat_minor": 2
}
