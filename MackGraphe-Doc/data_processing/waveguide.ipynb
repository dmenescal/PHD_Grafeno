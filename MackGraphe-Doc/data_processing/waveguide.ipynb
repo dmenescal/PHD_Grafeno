{
 "cells": [
  {
   "cell_type": "code",
   "execution_count": 2,
   "metadata": {},
   "outputs": [],
   "source": [
    "import cmath\n",
    "import math\n",
    "import numpy as np\n",
    "from scipy.optimize import curve_fit\n",
    "import matplotlib.pyplot as plt"
   ]
  },
  {
   "cell_type": "code",
   "execution_count": 28,
   "metadata": {},
   "outputs": [],
   "source": [
    "# Definição dos índices de refração de um sistema de guia de onda com 3 meios\n",
    "n1 = 1\n",
    "n2 = complex(3.42**2, 0)\n",
    "n3 = 1.98**2\n",
    "\n",
    "# Definição das variáveis físicas do experimento\n",
    "c = 3e8\n",
    "d = 15e-6\n",
    "Ef = 0.4\n",
    "hbar = 6.582119569e-16\n",
    "fmin = 0.01e12\n",
    "fmax = 10e12\n",
    "vf = np.linspace(fmin, fmax, 200)\n",
    "kmax = np.emath.sqrt(n2)*2*math.pi*vf[-1]/c\n",
    "pq = 0.005\n",
    "vkx = np.linspace(0.001*kmax, 1.5*kmax, 300)\n"
   ]
  },
  {
   "cell_type": "code",
   "execution_count": 30,
   "metadata": {},
   "outputs": [],
   "source": [
    "def crp(kz1,kz2,n1,n2,w,sigma):\n",
    "    num = (n2*kz1 - n1*kz2 + (kz1*kz2)*(sigma/(w*8.84119e-12)))\n",
    "    den = (n2*kz1 + n1*kz2 + (kz1*kz2)*(sigma/(w*8.84119e-12)))\n",
    "    \n",
    "    return -1*(num)/den\n",
    "    "
   ]
  },
  {
   "cell_type": "code",
   "execution_count": 31,
   "metadata": {},
   "outputs": [
    {
     "ename": "TypeError",
     "evalue": "only size-1 arrays can be converted to Python scalars",
     "output_type": "error",
     "traceback": [
      "\u001b[1;31m---------------------------------------------------------------------------\u001b[0m",
      "\u001b[1;31mTypeError\u001b[0m                                 Traceback (most recent call last)",
      "\u001b[1;32m<ipython-input-31-cdc75a386fd2>\u001b[0m in \u001b[0;36m<module>\u001b[1;34m\u001b[0m\n\u001b[0;32m     11\u001b[0m \u001b[0mfase\u001b[0m \u001b[1;33m=\u001b[0m \u001b[0mkz2\u001b[0m\u001b[1;33m*\u001b[0m\u001b[0md\u001b[0m\u001b[1;33m\u001b[0m\u001b[1;33m\u001b[0m\u001b[0m\n\u001b[0;32m     12\u001b[0m \u001b[1;33m\u001b[0m\u001b[0m\n\u001b[1;32m---> 13\u001b[1;33m \u001b[0mnum\u001b[0m \u001b[1;33m=\u001b[0m \u001b[1;33m(\u001b[0m\u001b[0mrp12\u001b[0m \u001b[1;33m+\u001b[0m \u001b[1;33m(\u001b[0m\u001b[0mrp23\u001b[0m\u001b[1;33m*\u001b[0m\u001b[0mcmath\u001b[0m\u001b[1;33m.\u001b[0m\u001b[0mexp\u001b[0m\u001b[1;33m(\u001b[0m\u001b[0mcomplex\u001b[0m\u001b[1;33m(\u001b[0m\u001b[1;36m0\u001b[0m\u001b[1;33m,\u001b[0m \u001b[1;36m2\u001b[0m\u001b[1;33m*\u001b[0m\u001b[0mfase\u001b[0m\u001b[1;33m)\u001b[0m\u001b[1;33m)\u001b[0m\u001b[1;33m)\u001b[0m\u001b[1;33m)\u001b[0m\u001b[1;33m\u001b[0m\u001b[1;33m\u001b[0m\u001b[0m\n\u001b[0m\u001b[0;32m     14\u001b[0m \u001b[0mden\u001b[0m \u001b[1;33m=\u001b[0m \u001b[1;33m(\u001b[0m\u001b[1;36m1\u001b[0m \u001b[1;33m+\u001b[0m \u001b[1;33m(\u001b[0m\u001b[0mrp12\u001b[0m\u001b[1;33m*\u001b[0m\u001b[0mrp23\u001b[0m\u001b[1;33m*\u001b[0m\u001b[0mcmath\u001b[0m\u001b[1;33m.\u001b[0m\u001b[0mexp\u001b[0m\u001b[1;33m(\u001b[0m\u001b[0mcomplex\u001b[0m\u001b[1;33m(\u001b[0m\u001b[1;36m0\u001b[0m\u001b[1;33m,\u001b[0m \u001b[1;36m2\u001b[0m\u001b[1;33m*\u001b[0m\u001b[0mfase\u001b[0m\u001b[1;33m)\u001b[0m\u001b[1;33m)\u001b[0m\u001b[1;33m)\u001b[0m\u001b[1;33m)\u001b[0m\u001b[1;33m\u001b[0m\u001b[1;33m\u001b[0m\u001b[0m\n\u001b[0;32m     15\u001b[0m \u001b[1;33m\u001b[0m\u001b[0m\n",
      "\u001b[1;31mTypeError\u001b[0m: only size-1 arrays can be converted to Python scalars"
     ]
    }
   ],
   "source": [
    "kx, f = np.meshgrid(vkx, vf)\n",
    "w = 2*np.pi*f\n",
    "\n",
    "kz1 = np.emath.sqrt((n1*(w/c)**2) - (kx**2))\n",
    "kz2 = np.emath.sqrt((n2*(w/c)**2) - (kx**2))\n",
    "kz3 = np.emath.sqrt((n3*(w/c)**2) - (kx**2))\n",
    "\n",
    "rp12 = crp(kz1, kz2, n1, n2, w, 0)\n",
    "rp23 = crp(kz2, kz3, n2, n3, w, 0)\n",
    "\n",
    "fase = kz2*d\n",
    "\n",
    "num = (rp12 + (rp23*cmath.exp(complex(0, 2*fase))))\n",
    "den = (1 + (rp12*rp23*cmath.exp(complex(0, 2*fase))))\n",
    "\n",
    "rp13 = num/den\n",
    "\n",
    "phi = cmath.phase(den)\n",
    "\n",
    "\n"
   ]
  },
  {
   "cell_type": "code",
   "execution_count": null,
   "metadata": {},
   "outputs": [],
   "source": []
  }
 ],
 "metadata": {
  "kernelspec": {
   "display_name": "Python 3.7.10 ('snn-pso')",
   "language": "python",
   "name": "python3"
  },
  "language_info": {
   "codemirror_mode": {
    "name": "ipython",
    "version": 3
   },
   "file_extension": ".py",
   "mimetype": "text/x-python",
   "name": "python",
   "nbconvert_exporter": "python",
   "pygments_lexer": "ipython3",
   "version": "3.7.10"
  },
  "orig_nbformat": 4,
  "vscode": {
   "interpreter": {
    "hash": "b1e70f11dca2dc5513a0c6b4fc2ed39d02d5fbfdc883f5701900c44d230e79da"
   }
  }
 },
 "nbformat": 4,
 "nbformat_minor": 2
}
